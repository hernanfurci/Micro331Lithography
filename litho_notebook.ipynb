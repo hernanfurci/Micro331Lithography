{
 "cells": [
  {
   "cell_type": "markdown",
   "id": "684e9473-ce91-4d27-bed3-e2d07854ecb9",
   "metadata": {},
   "source": [
    "#  **Photolithography** "
   ]
  },
  {
   "cell_type": "markdown",
   "id": "0978c494-b216-4a22-9672-3ec1a3331658",
   "metadata": {},
   "source": [
    "### __Before you start the notebook please run the import section bellow.__"
   ]
  },
  {
   "cell_type": "code",
   "execution_count": null,
   "id": "6a78a003-975b-4740-8e0d-3be9cd82d441",
   "metadata": {
    "tags": []
   },
   "outputs": [],
   "source": [
    "import numpy as np\n",
    "import pandas as pd\n",
    "import matplotlib.pyplot as plt\n",
    "from scipy import interpolate\n",
    "import math\n",
    "from IPython.display import display, Markdown, clear_output\n",
    "from mpl_toolkits.mplot3d import Axes3D\n",
    "from ipywidgets import interact, widgets, fixed, Dropdown, Output, IntSlider\n",
    "from matplotlib.path import Path\n",
    "from matplotlib.patches import PathPatch\n",
    "from matplotlib.widgets import Slider\n",
    "from scipy.fftpack import fft2, ifft2, fftshift\n",
    "from ipywidgets import interact\n",
    "import ipywidgets as widgets\n",
    "from base64 import b64encode\n",
    "from IPython.display import display, HTML"
   ]
  },
  {
   "cell_type": "markdown",
   "id": "ed6f2750",
   "metadata": {},
   "source": [
    "### __Spin Coating__"
   ]
  },
  {
   "cell_type": "markdown",
   "id": "1af6625b",
   "metadata": {},
   "source": [
    "**Spin coating** is a widely used technique in microfabrication processes that enables the deposition of thin films with precise control over their thickness and uniformity. It is a simple and efficient method that involves spinning a liquid or viscous material onto a substrate, which spreads and forms a thin film due to centrifugal forces. Note that before spin coating, a surface cleaning step can performed to remove contaminants, particles, and organic residues that could affect the quality of subsequent coatings or patterning steps\n",
    "\n"
   ]
  },
  {
   "cell_type": "code",
   "execution_count": null,
   "id": "d0e3cf2c",
   "metadata": {
    "tags": []
   },
   "outputs": [],
   "source": [
    "mp4 = open('spincoating_clip.mp4','rb').read()\n",
    "data_url = \"data:video/mp4;base64,\" + b64encode(mp4).decode()\n",
    "HTML(\"\"\"\n",
    "<video width=1000 controls>\n",
    "      <source src=\"%s\" type=\"video/mp4\">\n",
    "</video>\n",
    "\"\"\" % data_url)"
   ]
  },
  {
   "cell_type": "markdown",
   "id": "227fd31d",
   "metadata": {},
   "source": [
    "### *Thickness/rotation speed curves*\n",
    "\n",
    "\n"
   ]
  },
  {
   "cell_type": "markdown",
   "id": "ebf792d5",
   "metadata": {},
   "source": [
    "We study here 2 resists used in EPFL's CMi, the [\"AZ 1512 HS\"](https://www.epfl.ch/research/facilities/cmi/process/photolithography/photoresist-selection/az-1512-hs/) and the lift-off resist (LOR) [\"LOR 5A\"](https://www.epfl.ch/research/facilities/cmi/process/photolithography/photoresist-selection/lor-5a/).\n",
    "\n",
    "We will generate curves detailing thickness T [$\\mu m$] in function of the rotation speed $\\omega$ [$rpm$]. Practically, recipes would start with a short spreading step at a set speed (for example, 500 RPM for 5 seconds) and then a longer main coating step.\n",
    "\n",
    "For the resists mentionned above, the relation between the two variables T and $\\omega$ is simplified as :\n",
    "\\begin{equation}\n",
    "T = \\alpha \\cdot \\omega^{-\\beta} [\\mu m]\n",
    "\\end{equation}"
   ]
  },
  {
   "cell_type": "markdown",
   "id": "9754944b",
   "metadata": {},
   "source": [
    "The next cell will load two datasets of measured RPM and achieved thickness for these two commonly used resists. Your task is to find the constants $\\alpha$ and $\\beta$ for that process. For this, you’re provided with sliders that will impact the production of the green curve representing the scaling law aforementioned. Note the pairs $\\alpha,\\beta$ that best match the two datasets."
   ]
  },
  {
   "cell_type": "code",
   "execution_count": null,
   "id": "0ac5f6a1-cd7c-4824-96e1-9c957966975c",
   "metadata": {
    "tags": []
   },
   "outputs": [],
   "source": [
    "import numpy as np\n",
    "import matplotlib.pyplot as plt\n",
    "from ipywidgets import interactive\n",
    "\n",
    "# Given RPM-Thickness data\n",
    "omega_resist = np.array([1000, 2000, 3000, 4000, 5000, 6000])\n",
    "T_resist = np.array([2.61, 1.82, 1.47, 1.27, 1.13, 1.03])\n",
    "omega_LOR = np.array([1000, 2000, 3000, 4000, 5000, 6000])\n",
    "T_LOR = np.array([1.01, 0.71, 0.58, 0.50, 0.45, 0.41])\n",
    "\n",
    "# x vector for curve fitting\n",
    "x_values = np.linspace(1000, 6000, 1000)\n",
    "\n",
    "# Function to update plot\n",
    "def update_plot(alpha, beta):\n",
    "    plt.figure(figsize=(10, 6))\n",
    "    \n",
    "    # Plotting the given data points\n",
    "    plt.plot(omega_resist, T_resist, 'ro', label='AZ1215 HS Data Points')\n",
    "    plt.plot(omega_LOR, T_LOR, 'bo', label='LOR 5A Data Points')\n",
    "    \n",
    "    # Calculating the curve y = alpha * x^-beta\n",
    "    y_values = alpha * x_values ** -beta\n",
    "    \n",
    "    # Plotting the curve\n",
    "    plt.plot(x_values, y_values, 'g-', label=f'Curve: $y = {alpha} \\cdot x^{{-{round(beta, 3)}}}$')\n",
    "    \n",
    "    # Setting labels and title\n",
    "    plt.xlabel('RPM')\n",
    "    plt.ylabel('Thickness')\n",
    "    plt.title('Interactive Plot of RPM vs Thickness with Curve Fitting')\n",
    "    plt.grid(True)\n",
    "    plt.legend()\n",
    "    plt.show()\n",
    "\n",
    "# Creating sliders for alpha and beta\n",
    "interactive_plot = interactive(update_plot, alpha=(1, 100, 1), beta=(0.01, 1.5, 0.01))\n",
    "\n",
    "# Displaying the interactive plot with sliders\n",
    "interactive_plot"
   ]
  },
  {
   "cell_type": "markdown",
   "id": "8b528306",
   "metadata": {},
   "source": [
    "Which of these parameters is more dependent on the resin type? Why? (Double click to edit the cell and add your answer).\n",
    "\n",
    "`Now that you know` $\\alpha$ `and` $\\beta$ `for AZ 1512 HS, calculate the value of rotation speed that is required to obtain 1.5 microns resist thickness.`"
   ]
  },
  {
   "cell_type": "code",
   "execution_count": null,
   "id": "7f6f94b2-c247-45c5-aabe-d40a1815a3de",
   "metadata": {
    "tags": []
   },
   "outputs": [],
   "source": [
    "TT = 1.5 #microns \n",
    "omega = 0 #= ...   # write the formula to find omega from T. Hint: The variables alpha and beta will be read from the sliders.\n",
    "print('The required rotation speed for ', TT, ' micrometer thickness is ', omega, ' RPM')"
   ]
  },
  {
   "cell_type": "markdown",
   "id": "a14dcdf0",
   "metadata": {},
   "source": [
    "### __Exposure and development__"
   ]
  },
  {
   "cell_type": "markdown",
   "id": "594a1b0b-70fd-4694-aa76-a9e95ec0a250",
   "metadata": {},
   "source": [
    "**Photolithography** is a fundamental technique widely employed in microfabrication processes to pattern and define complex features on substrates with high precision. It is a key process in the production of microelectronic devices, integrated circuits, microfluidic systems, and various other microscale structures.\n",
    "\n",
    "It is based on the principle of electromagnetic interaction and the modification of a resist material through the exposure to photons or electrons. The resist material is a photosensitive material that undergoes a chemical or physical change upon exposure. The patterned resist acts as a mask for subsequent processes, defining regions that will either be selectively etched or where materials will be deposited.\n",
    "\n",
    "The **lithography** process begins with the **design of the desired pattern**, typically using computer-aided design (CAD) software. The design is then transferred to a photomask, which contains the pattern as opaque and transparent regions. The mask serves as a template for pattern transfer onto the resist-coated substrate.\n",
    "\n",
    "During **exposure**, the resist is here subjected to UV light ; the photons or electrons interact with the resist, inducing chemical reactions or physical changes in the material. This modification of the resist's properties enables the creation of a pattern corresponding to the desired design.\n",
    "\n",
    "Following exposure, the resist undergoes a **development** step. Development involves treating the resist with a developer solution that selectively removes either the exposed since here we are using a positive resist. This step reveals the patterned resist on the substrate, ready for subsequent processing step.\n",
    "\n"
   ]
  },
  {
   "cell_type": "code",
   "execution_count": null,
   "id": "90057421-c8ef-4343-8de1-48ec4cfe57d9",
   "metadata": {
    "tags": []
   },
   "outputs": [],
   "source": [
    "mp4 = open('litho_clip.mp4','rb').read()\n",
    "data_url = \"data:video/mp4;base64,\" + b64encode(mp4).decode()\n",
    "HTML(\"\"\"\n",
    "<video width=1000 controls>\n",
    "      <source src=\"%s\" type=\"video/mp4\">\n",
    "</video>\n",
    "\"\"\" % data_url)"
   ]
  },
  {
   "cell_type": "markdown",
   "id": "19d54dcc",
   "metadata": {},
   "source": [
    "In this video, we observe several procedures. First, we see a typical 5-inch quartz mask (a square glass plate with a chromium layer) and how this mask is exposed in the direct laser writing machine VPG200 at CMi. Later on, we view a glass wafer on which a metal pattern is created using lift-off, utilizing the previously displayed mask. The operator employs a mask aligner to align the pattern on the mask with the wafer before exposing it to light through the mask (akin to a stencil). Finally, after the metal deposition by evaporation (which is not depicted in the video), the wafer is immersed in a solvent to remove the remaining resist and the metal on top of it. Only the metal deposited on the developed resist regions remains."
   ]
  },
  {
   "cell_type": "markdown",
   "id": "d4632748-c639-4b4e-b735-9a04d6fc7f21",
   "metadata": {},
   "source": [
    "# *Exercice Section*\n",
    "* ### Dose of exposure\n",
    "\n",
    "To achieve proper development results, it is important to choose the exposure dose carefully. Before diving into further details, let's analyze the recommended dose for a specific thickness of AZ 1512 HS resist on the MABA6 and MA6 Gen3 machines. Please be aware that the presented curve is specific to this particular case and is provided to give you an idea of the potential behavior you might encounter."
   ]
  },
  {
   "cell_type": "markdown",
   "id": "f95d6307-ec60-4972-8565-d1b28ed199a3",
   "metadata": {},
   "source": [
    "`Run the following cell to display the recommended doses for a given thickness`"
   ]
  },
  {
   "cell_type": "code",
   "execution_count": null,
   "id": "107dec2c-4385-4d52-a25e-353ac097b375",
   "metadata": {
    "tags": []
   },
   "outputs": [],
   "source": [
    "plt.close('all')\n",
    "# Determine the number of points and the values of doses, for the interpolation\n",
    "\n",
    "def dev_curve(dose):\n",
    "    thick=-3.08555*10**-10*dose**6 + 7.88354*10**-8*dose**5-8.17055*10**-6*dose**4+0.000437742*dose**3-0.012214*dose**2+0.173364*dose+0\n",
    "    return thick\n",
    "\n",
    "dose = np.arange(0, 80, 1, float) \n",
    "thickness= dev_curve(dose)\n",
    "\n",
    "# Plot\n",
    "def update(x_index):\n",
    "    x_val = dose[x_index]\n",
    "    y_val = thickness[x_index]\n",
    "\n",
    "    fig, ax = plt.subplots()\n",
    "    ax.plot(dose, thickness)\n",
    "    ax.set_title('Dose/thickness removed curve')\n",
    "    ax.set_ylabel('Thickness [um]')\n",
    "    ax.set_xlabel('Dose [mJ/cm^2]')\n",
    "\n",
    "    ax.axvline(x=x_val, color='r', linestyle='--', alpha = 0.3)\n",
    "    ax.axhline(y=y_val, color='r', linestyle='--', alpha = 0.3)\n",
    "    ax.text(x_val, y_val, \"Dose =\" + str(round(x_val, 3)) + r\" $[mJ/cm^2]$,\"+ \"\\nThickness =\" + str(round(y_val, 3)) + r\" [$\\mu m]$\",\n",
    "            va='center', ha='center', fontsize = 'small', alpha=0.7)\n",
    "    plt.show()\n",
    "\n",
    "\n",
    "interact(update, \n",
    "         x_index=widgets.IntSlider(min=0, max=len(dose)-1, step=1, value=0))"
   ]
  },
  {
   "cell_type": "markdown",
   "id": "bb388e8a-39b0-4973-b390-0a9883799048",
   "metadata": {},
   "source": [
    "`We used here a discrete slider over 80 values, since this is what we used to draw the function. What about the points in between? How would you read the exact value for a certain thickness? Either try editing the code in the next cell to get all your values using interpolation, or write an approximation by pen and paper, using the nearest neighors. `\n"
   ]
  },
  {
   "cell_type": "code",
   "execution_count": null,
   "id": "e937e236",
   "metadata": {
    "tags": []
   },
   "outputs": [],
   "source": [
    "# Create the interpolation function, by filling in the comment\n",
    "f =interpolate.interp1d(x= np.zeros(10) , y= np.zeros(10),             #what are we interpolating?, fill in x and y \n",
    "                        kind='linear', fill_value=\"extrapolate\")\n",
    "# Thickness values from the table\n",
    "table_thickness = np.array([500, 700, 1000, 1500, 2000])\n",
    "\n",
    "required_doses = f(table_thickness)\n",
    "\n",
    "df = pd.DataFrame(data = required_doses, index=table_thickness, columns= [\"Required dose [mJ/cm^2]\"]).rename_axis('Thickness [nm]')\n",
    "display(df)"
   ]
  },
  {
   "cell_type": "markdown",
   "id": "25183790-8bc8-4dd3-b395-74e06b1846cd",
   "metadata": {},
   "source": [
    "* # Exposure patterns simulation"
   ]
  },
  {
   "cell_type": "markdown",
   "id": "86e81345-6bfc-4ad8-ba35-8c6e27b7f68c",
   "metadata": {},
   "source": [
    "`This part of the notebook shows an example for a certain mask drawn in KLayout, choosing other variables!`"
   ]
  },
  {
   "cell_type": "markdown",
   "id": "3c244c6f-5bb8-4950-abf7-d5f7b4a51920",
   "metadata": {},
   "source": [
    "`In this part of the exercise, We will work with a sample mask that was created using the software KLayout (editor version).`\n",
    "\n",
    "A mask is given by geometrical entities encoded in a special digital format. The most common of these is the binary format GDS. Given the complexity of this format, here we are going to use a simple representation of a closed polygon as a set of x:y points in a text file. The series of points are the vertices of the polygon, the first and last point have to be identical (closed shape) and there has to be non-intersecting segments and a clear inside region defined. The values of the points are integers in nm units. As an example here we provide a few text files: 'mask_ThreeFingers.txt', 'mask_ThreeTriangFingers.txt', 'mask_COMB_200nm.txt', 'mask_COMB_300nm.txt' and 'mask_COMB_500nm.txt'. When you run the following code you will immediately understand what polygons have been encoded in these files. For now, let us focus on the first file. The mask file is imported by the code (see further). \n",
    "\n",
    "When a patterned mask is introduced in the light's path, it results in a non-uniform exposure on the resist. However, due to light's wavelike nature, it forms diffraction patterns. We have used a far-field approximation combined with Fourier transforms to model this effect. See the corresponding lines of code where fft (fast Fourier transform) appears to understand what's going on.\n",
    "\n",
    "Upon running the code, three distinct figures will be generated, depending on the light source that you chose. \n",
    "\n",
    "The first figure depicts the actual local dose accumulated on the resist during the duration of the exposure. This quantity will determine the developed thickness (as we learnt in the previous seciton). It is a surface plot of dose vs. x and y (3D representation).\n",
    "\n",
    "To simplify we have included a slider to selecte a `y=y_pixel` plane cut. From this choice we can obtaine a line plot containing: \n",
    "* the dose profile along x on that y coordinate (blue)\n",
    "* the threshold value necessary for full development (red dashed), \n",
    "* and the development function represented as a binary function (orange) indicating whether a zone is full-thickness developed or not developed completely.\n",
    "\n",
    "Finally, the last two figures illustrate the original intended mask and the aerial image of the developed areas (white = developed, black = not fully developed). \n",
    "\n",
    "`Feel free to execute the code and explore the various parameters!`"
   ]
  },
  {
   "cell_type": "markdown",
   "id": "36229342",
   "metadata": {},
   "source": [
    "`Fill in the TH value in the parameters with the found dose to expose your resist. TH here represents the threshold above which the resist is fully developed, and below which it isn't developed at all (this is an approximation, as you might know about grayscale lithography).`"
   ]
  },
  {
   "cell_type": "code",
   "execution_count": null,
   "id": "2d02be6d-644b-4755-98da-5866628ea784",
   "metadata": {
    "tags": []
   },
   "outputs": [],
   "source": [
    "# Parameters\n",
    "global N\n",
    "N = int(600)    #number of points on the x and y scales\n",
    "init_th=1.5     #microns\n",
    "TH = 30         # Threshold intensity ### ENTER THE VALUE THAT YOU FOUND IN THE PREVIOUS STEP\n",
    "NA = 1.0\n",
    "# Numerical aperature\n",
    "global prev_value\n",
    "prev_value = 'ArF excimer laser'\n",
    " \n",
    "# Reading mask shape from file\n",
    "with open(\"mask_ThreeFingers.txt\", \"r\") as file:\n",
    "#with open(\"mask_ThreeTriangFingers.txt\", \"r\") as file:\n",
    "#with open(\"mask_COMB-200nm.txt\", \"r\") as file:\n",
    "#with open(\"mask_COMB-300nm.txt\", \"r\") as file:\n",
    "#with open(\"mask_COMB-500nm.txt\", \"r\") as file:\n",
    "    data = file.readlines()\n",
    "X = []\n",
    "Y = []\n",
    "for line in data:\n",
    "    line = line.strip().split(\":\")\n",
    "    X.append(int(line[0])/1000.)\n",
    "    Y.append(int(line[1])/1000.)\n",
    "X = X-(np.max(X)+np.min(X))/2\n",
    "Y = Y-(np.max(Y)+np.min(Y))/2\n",
    "Lxy=np.max([np.max(X)-np.min(X),np.max(Y)-np.min(Y)]) #this is done so that the domain is square\n",
    "margin_factor=1.2         # a margin will be left around the mask image\n",
    "Lx = margin_factor*Lxy    # Mask real dimensions (um), dimension increased to have the black area around the mask\n",
    "Ly = margin_factor*Lxy    # Mask real dimensions (um)\n",
    "dx = Lx/N\n",
    "dy = Ly/N\n",
    " \n",
    "#we first have a function that calculates the dose profile\n",
    "#it will convert the mask polygon into a pixel field with 1's and 0'2 according to design\n",
    "#then if will apply the fft model to calculate dose.\n",
    "#finally, by comparing with the threshold, an aerial view of the developed regions is also calculated.\n",
    "def update_3D(lamda,N, t_exp_sec):\n",
    "    # Center the polygon\n",
    "    x = np.linspace(-margin_factor/2*Lxy+dx/2,margin_factor/2*Lxy-dx/2,N)\n",
    "    y = np.linspace(-margin_factor/2*Lxy+dy/2,margin_factor/2*Lxy-dy/2,N)\n",
    "    # Create mask matrix\n",
    "    x,y = np.meshgrid(x,y)\n",
    "    x = np.reshape(x,-1)\n",
    "    y = np.reshape(y,-1)\n",
    "    mask = Path(np.column_stack((X,Y)))\n",
    "    mask = mask.contains_points(np.column_stack((x,y)))\n",
    "    mask = np.reshape(mask,(N,N))\n",
    "    mask = mask.astype(float) # this variable now containes a matrix of 0's and 1's for points outside or inside the design, respectively\n",
    "    # Calculations creating different domains\n",
    "    \n",
    "    nx, ny = np.meshgrid(np.arange(-N/2+1,N/2+1),np.arange(-N/2+1,N/2+1))\n",
    "    fx = (1/dx)*(1/N)*nx\n",
    "    fy = (1/dy)*(1/N)*ny\n",
    "    # Discrete frequency domain (1/um)\n",
    "    P = np.sqrt((fx**2)+(fy**2))\n",
    "    P = (P < (NA/lamda)).astype(float) # This is a filter transfer function for all the frequencies that fulfill numerical aperture requirement\n",
    "    I = fftshift(fft2(mask))           #Fourier transfor of the mask shape.\n",
    "    I = ifft2(P*I)                     # multiplication in freq domain = convolution of the mask with the NA filter + fft inversion back to space domain\n",
    "    I = np.real(I*np.conj(I))          # square of the norm of the complex intensity in freq domain\n",
    "    #I = I/np.max(I)                    # normalisation (is this necessay?)\n",
    "    D_exp = 20*t_exp_sec #[power/cm^2]\n",
    "    phys_I = I*D_exp #Dose [mJ/cm^2]\n",
    "    aerial = (phys_I > TH).astype(float)\n",
    "    return phys_I, mask, aerial\n",
    "\n",
    "#this function will help visualize the mask as intended and as developed\n",
    "#it also print the size of the openings identified along y_pixel for the original design\n",
    "def plot_mask(mask,aerial,y_pixel):\n",
    "    print('The dimensions of the mask are', round(Lx,2), 'x', round(Ly,2), 'um')\n",
    "    print('Analysis of opening size expected accroding to mask pixelization:')\n",
    "    calculate_apertures(mask,y_pixel,0.5)\n",
    "    # Plots\n",
    "    fig, (ax1, ax2) = plt.subplots(2, 1, figsize=(16, 16))\n",
    "    ax1.imshow(mask, cmap='gray', origin='lower',  extent=(-Lx/2, Lx/2, -Ly/2, Ly/2))\n",
    "    ax1.set_title('Mask image')\n",
    "    ax1.set_xlabel('X [um]')\n",
    "    ax1.set_ylabel('Y [um]')\n",
    "    ax2.imshow(aerial, cmap='gray', origin='lower', extent=(-Lx/2, Lx/2, -Ly/2, Ly/2))\n",
    "    ax2.set_title('Aerial image')\n",
    "    ax2.set_xlabel('X [um]')\n",
    "    ax2.set_ylabel('Y [um]')\n",
    "    plt.tight_layout()\n",
    "      \n",
    "# This function calculates and plots the dose profile on x and y plane\n",
    "def plot_func(lamda,t_exp_sec):\n",
    "    I, mask, aerial = update_3D(lamda,N, t_exp_sec)\n",
    "    x = np.linspace(-margin_factor/2*Lxy+dx/2,margin_factor/2*Lxy-dx/2,N)\n",
    "    y = np.linspace(-margin_factor/2*Lxy+dy/2,margin_factor/2*Lxy-dy/2,N)\n",
    "    x, y = np.meshgrid(x, y)\n",
    "    fig = plt.figure(figsize=(6, 6))\n",
    "    ax = fig.add_subplot(111, projection='3d')\n",
    "    ax.plot_surface(x, y, I, cmap='jet')   \n",
    "    ax.set_xlabel('X [um]')\n",
    "    ax.set_ylabel('Y [um]')\n",
    "    ax.set_zlabel('Local dose (mJ/cm^2)', labelpad=0.2)\n",
    "    ax.set_zlim(0, 200)\n",
    "    ax.set_title('Dose profile for nominal dose of '+ str(20*t_exp_sec) + r' $mJ/cm^2$')\n",
    "    plt.show()\n",
    "    return I, mask, aerial\n",
    "\n",
    "\n",
    "def calculate_apertures(I,y_pixel,TH): \n",
    "    #this function takes a slide of I over column index y_pixel\n",
    "    #and then prints the sizes of the continuous sections where I is greater than TH\n",
    "    #it can be used to identify and measure zones where exposure overcomes full development threshold\n",
    "    #or where the mask was designed to be really open.\n",
    "    arr = np.where((I[y_pixel,:] >= TH))[0]  #list of index where the intensity is higher than the threshold\n",
    "    output = []\n",
    "    temp = []\n",
    "    dist = []\n",
    "    if(len(arr) != 0):\n",
    "        for i, val in enumerate(arr[:-1]):\n",
    "            temp.append(val)\n",
    "            if arr[i+1] != val +1:\n",
    "                output.append(temp)\n",
    "                temp = []\n",
    "        temp.append(arr[-1])\n",
    "        output.append(temp)\n",
    "        for j in range(len(output)):\n",
    "            x_left_out=output[j][0]-1\n",
    "            x_right_out=output[j][len(output[j])-1]+1\n",
    "            I_left_in=I[y_pixel,output[j][0]]\n",
    "            I_left_out=I[y_pixel,x_left_out]\n",
    "            I_right_in=I[y_pixel,output[j][len(output[j])-1]]\n",
    "            I_right_out=I[y_pixel,x_right_out]               \n",
    "            dist.append((x_right_out-x_left_out-(TH-I_right_out)/(I_right_in-I_right_out)-(TH-I_left_out)/(I_left_in-I_left_out))*dx)\n",
    "        if len(dist)>1:\n",
    "            print('{:d} openings have been identified along this y_pixel line'.format(len(dist)))\n",
    "            print('The width of the openings are :')\n",
    "            for d in dist:\n",
    "                print('{:.3f} [um]'.format(d))\n",
    "        elif len(dist)==1:\n",
    "            print('1 opening has been identified along this y_pixel line'.format(len(dist)))\n",
    "            print('The width of the opening is :')\n",
    "            for d in dist:\n",
    "                print('{:.3f} [um]'.format(d))\n",
    "    else:\n",
    "        print('No openings have been identified along this y_pixel line')\n",
    "\n",
    "\n",
    "def dev_thickness(dose):\n",
    "    result=dev_curve(dose)\n",
    "    result[dose>72]=2.5 #artifact to avoid negative values due to polynomial approximation\n",
    "    return result\n",
    "\n",
    "def replace_negative_with_zero(arr):\n",
    "    arr[arr < 0] = 0\n",
    "    return arr\n",
    "\n",
    "def remain_thickness(init_thickness,dose):\n",
    "    remain_thick=init_thickness-dev_thickness(dose)\n",
    "    remain_thick=replace_negative_with_zero(remain_thick)\n",
    "    return remain_thick\n",
    "    \n",
    "def plot_func_2D(I, y_pixel,t_exp_sec):#(lamda, y_pixel, t_exp_sec):\n",
    "    #I, mask, aerial = update_3D(lamda,N, t_exp_sec)\n",
    "    x = np.linspace(-margin_factor/2*Lxy+dx/2,margin_factor/2*Lxy-dx/2,N)\n",
    "    D_exp = 20*t_exp_sec #[power/cm^2]\n",
    "    plt.plot(x, I[y_pixel,:], label='Dose function (mJ/cm^2)')\n",
    "    plt.plot(x, ~(I[y_pixel,:] >= TH)*D_exp, label='Development function')\n",
    "    plt.plot(x, remain_thickness(init_th,I[y_pixel,:])/init_th*D_exp, color='gray', linestyle='--', label='Resit profile')\n",
    "    plt.axhline(TH, color='red', linestyle='--', label='Threshold for development')\n",
    "    plt.legend(loc='upper right', bbox_to_anchor=(1.6, 1))\n",
    "    print('The dose is', D_exp, '[mJ/cm^2]')\n",
    "    calculate_apertures(I,y_pixel,TH)\n",
    "    \n",
    "    y_aux = np.linspace(-margin_factor/2*Lxy+dy/2,margin_factor/2*Lxy-dy/2,N)\n",
    "    print('You are at position y =', round(y_aux[y_pixel],3), ' [um]')\n",
    "    \n",
    "    plt.xlabel('X [um]')\n",
    "    plt.ylabel('Z')\n",
    "    plt.title('Dose and development function at y_pixel='+ str(y_pixel))\n",
    "    plt.show()\n",
    "\n",
    "\n",
    "def plot_all(lamda, y_pixel, t_exp_sec):\n",
    "    I, mask, aerial = plot_func(lamda, t_exp_sec)\n",
    "    plot_func_2D(I,y_pixel,t_exp_sec)#(lamda, y_pixel, t_exp_sec)\n",
    "    plot_mask(mask,aerial,y_pixel) \n",
    "\n",
    "#buttons creation\n",
    "Source_Dropdown = widgets.Dropdown(\n",
    "       options=['F2 laser', 'ArF excimer laser', 'Hg/Xe arc lamp (DUV)', 'Hg arc lamp (I-line)', 'Hg arc lamp (H-line)', 'Hg arc lamp (G-line)'],\n",
    "       description='Light source:')\n",
    "Select_button = widgets.Button(description='Select')\n",
    "outt = widgets.Output()\n",
    "\n",
    "\n",
    "def on_butt_clicked(b):\n",
    "    with outt:\n",
    "        global prev_value\n",
    "        global lamda\n",
    "        clear_output()\n",
    "        if(Source_Dropdown.value != prev_value):\n",
    "            if(Source_Dropdown.value == 'F2 laser'):\n",
    "                prev_value = 'F2 laser'\n",
    "                lamda = 0.157\n",
    "            elif(Source_Dropdown.value == 'ArF excimer laser'):\n",
    "                prev_value = 'ArF excimer laser'\n",
    "                lamda = 0.193\n",
    "            elif(Source_Dropdown.value == 'Hg/Xe arc lamp (DUV)'):\n",
    "                prev_value = 'Hg/Xe arc lamp (DUV)'\n",
    "                lamda = 0.248 \n",
    "            elif(Source_Dropdown.value == 'Hg arc lamp (I-line)'):\n",
    "                lamda = 0.365 \n",
    "            elif(Source_Dropdown.value == 'Hg arc lamp (H-line)'):\n",
    "                lamda = 0.405 \n",
    "            elif(Source_Dropdown.value == 'Hg arc lamp (G-line)'):\n",
    "                lamda = 0.436 \n",
    "        print('Wavelength = ', lamda, 'um') \n",
    "        interact(plot_all,  lamda=fixed(lamda), y_pixel = (0, N, 1), t_exp_sec = (0, 10,  0.25))\n",
    "\n",
    "\n",
    "Select_button.on_click(on_butt_clicked)\n",
    "widgets.VBox([Source_Dropdown,Select_button,outt])"
   ]
  },
  {
   "cell_type": "markdown",
   "id": "026884aa-0383-41df-847b-ba5eed7066db",
   "metadata": {},
   "source": [
    "## __This is the end of the photolithography notebook.__"
   ]
  }
 ],
 "metadata": {
  "kernelspec": {
   "display_name": "Python3",
   "language": "python",
   "name": "python3"
  },
  "language_info": {
   "codemirror_mode": {
    "name": "ipython",
    "version": 3
   },
   "file_extension": ".py",
   "mimetype": "text/x-python",
   "name": "python",
   "nbconvert_exporter": "python",
   "pygments_lexer": "ipython3",
   "version": "3.11.5"
  }
 },
 "nbformat": 4,
 "nbformat_minor": 5
}
